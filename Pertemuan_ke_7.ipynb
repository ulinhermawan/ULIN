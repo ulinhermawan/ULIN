{
  "nbformat": 4,
  "nbformat_minor": 0,
  "metadata": {
    "colab": {
      "provenance": [],
      "authorship_tag": "ABX9TyPyqgrWcCPL+ZUYCSoBIu/9",
      "include_colab_link": true
    },
    "kernelspec": {
      "name": "python3",
      "display_name": "Python 3"
    },
    "language_info": {
      "name": "python"
    }
  },
  "cells": [
    {
      "cell_type": "markdown",
      "metadata": {
        "id": "view-in-github",
        "colab_type": "text"
      },
      "source": [
        "<a href=\"https://colab.research.google.com/github/ulinhermawan/ULIN/blob/main/Pertemuan_ke_7.ipynb\" target=\"_parent\"><img src=\"https://colab.research.google.com/assets/colab-badge.svg\" alt=\"Open In Colab\"/></a>"
      ]
    },
    {
      "cell_type": "code",
      "execution_count": 2,
      "metadata": {
        "colab": {
          "base_uri": "https://localhost:8080/"
        },
        "id": "hTKbNk8A0x2x",
        "outputId": "9d8b8a7e-0b51-4dc9-ad47-27acd190dd94"
      },
      "outputs": [
        {
          "output_type": "stream",
          "name": "stdout",
          "text": [
            "HELLO WORLD\n"
          ]
        }
      ],
      "source": [
        "def sapa() :\n",
        "  print (\"HELLO WORLD\")\n",
        "\n",
        "#Memanggil fungsi\n",
        "sapa()"
      ]
    },
    {
      "cell_type": "code",
      "source": [
        "def halo() :\n",
        "  print (\"Selamat belajar python!\")\n",
        "\n",
        "# Memanggil fungsi\n",
        "halo()"
      ],
      "metadata": {
        "colab": {
          "base_uri": "https://localhost:8080/"
        },
        "id": "fswWPcG01mrv",
        "outputId": "2891520d-f42f-4c8c-bc8c-9419688144a7"
      },
      "execution_count": 4,
      "outputs": [
        {
          "output_type": "stream",
          "name": "stdout",
          "text": [
            "Selamat belajar python!\n"
          ]
        }
      ]
    },
    {
      "cell_type": "code",
      "source": [
        "def sapa() :\n",
        "  print(\"Halo, Agi! Apa kabar hari ini?\")\n",
        "\n",
        "#Memanggil fungsi\n",
        "sapa()"
      ],
      "metadata": {
        "colab": {
          "base_uri": "https://localhost:8080/"
        },
        "id": "gaGxQIQT2QW_",
        "outputId": "d126e686-e25d-41ea-9772-259fb0d20037"
      },
      "execution_count": 5,
      "outputs": [
        {
          "output_type": "stream",
          "name": "stdout",
          "text": [
            "Halo, Agi! Apa kabar hari ini?\n"
          ]
        }
      ]
    },
    {
      "cell_type": "code",
      "source": [
        "def pangkat_dua(X) :\n",
        "  Hasil = X ** 2\n",
        "  return Hasil\n",
        "\n",
        "#Memanggil fungsi dan menanmpung hasilnya\n",
        "Hasil_pangkat_dua = pangkat_dua(5)\n",
        "print(\"Hasil_pangkat_dua dari\", 5, \"adalah\", Hasil_pangkat_dua)"
      ],
      "metadata": {
        "colab": {
          "base_uri": "https://localhost:8080/"
        },
        "id": "CttVH9ao3nNT",
        "outputId": "e4fe5809-8200-46a2-a750-2e814bc56384"
      },
      "execution_count": 38,
      "outputs": [
        {
          "output_type": "stream",
          "name": "stdout",
          "text": [
            "Hasil_pangkat_dua dari 5 adalah 25\n"
          ]
        }
      ]
    },
    {
      "cell_type": "code",
      "source": [
        "def pangkat_dua(X) :\n",
        "  Hasil = X ** 2\n",
        "  return Hasil\n",
        "\n",
        "#Memanggil fungsi dan menampung hasilnya\n",
        "print(pangkat_dua(4))"
      ],
      "metadata": {
        "colab": {
          "base_uri": "https://localhost:8080/"
        },
        "id": "algkkGN384Yd",
        "outputId": "14b169e9-d917-426b-a703-ce49f78a2d75"
      },
      "execution_count": 39,
      "outputs": [
        {
          "output_type": "stream",
          "name": "stdout",
          "text": [
            "16\n"
          ]
        }
      ]
    },
    {
      "cell_type": "code",
      "source": [
        "def info_angka(a, b) :\n",
        "  bagi = a/b\n",
        "  kali = a*b\n",
        "  return bagi, kali\n",
        "\n",
        "#Memanggil fungsi\n",
        "print(info_angka(10, 4))"
      ],
      "metadata": {
        "colab": {
          "base_uri": "https://localhost:8080/"
        },
        "id": "Dibk1BW29TY7",
        "outputId": "e531c12e-2c1d-43d3-bcb3-5124f648dd22"
      },
      "execution_count": 51,
      "outputs": [
        {
          "output_type": "stream",
          "name": "stdout",
          "text": [
            "(2.5, 40)\n"
          ]
        }
      ]
    },
    {
      "cell_type": "code",
      "source": [
        "def jumlah(a, b) :\n",
        "  hasil = a + b\n",
        "  return hasil\n",
        "\n",
        "def kurang(a, b) :\n",
        "  hasil = a - b\n",
        "  return hasil\n",
        "\n",
        "def kali(a, b) :\n",
        "  hasil = a * b\n",
        "  return hasil\n",
        "\n",
        "def bagi(a, b) :\n",
        "  hasil = a / b\n",
        "  return hasil\n",
        "\n",
        "#Memanggil fungsi dan menampung hasilnya\n",
        "a = int(input(\"Masukkan nilai a : \"))\n",
        "b = int(input(\"Masukkan nilai b : \"))\n",
        "\n",
        "print(\"Hasil penjumlahan dari\", a, \"dan\", b, \"adalah\", jumlah(a, b))\n",
        "print(\"Hasil pengurangan dari\", a, \"dan\", b, \"adalah\", kurang(a, b))\n",
        "print(\"Hasil perkalian dari\", a, \"dan\", b, \"adalah\", kali(a, b))\n",
        "print(\"Hasil pembagian dari\", a, \"dan\", b, \"adalah\", bagi(a, b))"
      ],
      "metadata": {
        "colab": {
          "base_uri": "https://localhost:8080/"
        },
        "id": "7xhIPKHd_2sf",
        "outputId": "cf271cbc-16f2-4192-ee98-b8e927d406ba"
      },
      "execution_count": 58,
      "outputs": [
        {
          "output_type": "stream",
          "name": "stdout",
          "text": [
            "Masukkan nilai a : 12\n",
            "Masukkan nilai b : 4\n",
            "Hasil penjumlahan dari 12 dan 4 adalah 16\n",
            "Hasil pengurangan dari 12 dan 4 adalah 8\n",
            "Hasil perkalian dari 12 dan 4 adalah 48\n",
            "Hasil pembagian dari 12 dan 4 adalah 3.0\n"
          ]
        }
      ]
    }
  ]
}