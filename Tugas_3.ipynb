{
  "nbformat": 4,
  "nbformat_minor": 0,
  "metadata": {
    "colab": {
      "provenance": [],
      "authorship_tag": "ABX9TyOoTLFo2y+u6aT3C8cNyx4e",
      "include_colab_link": true
    },
    "kernelspec": {
      "name": "python3",
      "display_name": "Python 3"
    },
    "language_info": {
      "name": "python"
    }
  },
  "cells": [
    {
      "cell_type": "markdown",
      "metadata": {
        "id": "view-in-github",
        "colab_type": "text"
      },
      "source": [
        "<a href=\"https://colab.research.google.com/github/ulinhermawan/ULIN/blob/main/Tugas_3.ipynb\" target=\"_parent\"><img src=\"https://colab.research.google.com/assets/colab-badge.svg\" alt=\"Open In Colab\"/></a>"
      ]
    },
    {
      "cell_type": "code",
      "execution_count": 1,
      "metadata": {
        "colab": {
          "base_uri": "https://localhost:8080/"
        },
        "id": "9jCO_4cphhqq",
        "outputId": "177a3eed-9596-4302-f7f0-0a46450d370a"
      },
      "outputs": [
        {
          "output_type": "stream",
          "name": "stdout",
          "text": [
            "15\n",
            "5\n",
            "50\n",
            "2.0\n"
          ]
        }
      ],
      "source": [
        "#Kalkulator Sederhana\n",
        "\n",
        "def dua_bilangan(a, b):\n",
        "  jumlah = a + b\n",
        "  kurang = a - b\n",
        "  kali = a * b\n",
        "  bagi = a / b\n",
        "  return jumlah, kurang, kali, bagi\n",
        "\n",
        "jml, krg, kl, bg = dua_bilangan(10, 5)\n",
        "print(jml)\n",
        "print(krg)\n",
        "print(kl)\n",
        "print(bg)"
      ]
    },
    {
      "cell_type": "code",
      "source": [
        "#Pola Segitiga\n",
        "n = 5\n",
        "\n",
        "for i in range(1, n + 1):\n",
        "  for j in range(1, i + 1):\n",
        "    print(j, end=\"\")\n",
        "  print()"
      ],
      "metadata": {
        "colab": {
          "base_uri": "https://localhost:8080/"
        },
        "id": "YMOMcavEjU10",
        "outputId": "716bf4cb-6e91-4ac1-eaf0-416143f56b2e"
      },
      "execution_count": 9,
      "outputs": [
        {
          "output_type": "stream",
          "name": "stdout",
          "text": [
            "1\n",
            "12\n",
            "123\n",
            "1234\n",
            "12345\n"
          ]
        }
      ]
    },
    {
      "cell_type": "code",
      "source": [
        "#Nilai Mahasiswa\n",
        "\n",
        "n = int(input(\"Jumlah mahasiswa: \"))\n",
        "nilai = [float(input(f\"Nilai ke-{i+1}: \")) for i in range(n)]\n",
        "\n",
        "print(\"\\nNilai mahasiswa:\", nilai)\n",
        "print(\"Rata-rata:\", sum(nilai)/n)\n",
        "print(\"Nilai tertinggi:\", max(nilai))\n",
        "print(\"Nilai terendah:\", min(nilai))"
      ],
      "metadata": {
        "colab": {
          "base_uri": "https://localhost:8080/"
        },
        "id": "CWKYid12kTj_",
        "outputId": "f4f979c3-263f-4e52-98ec-08c89e280338"
      },
      "execution_count": 2,
      "outputs": [
        {
          "output_type": "stream",
          "name": "stdout",
          "text": [
            "Jumlah mahasiswa: 5\n",
            "Nilai ke-1: 90\n",
            "Nilai ke-2: 84\n",
            "Nilai ke-3: 78\n",
            "Nilai ke-4: 60\n",
            "Nilai ke-5: 98\n",
            "\n",
            "Nilai mahasiswa: [90.0, 84.0, 78.0, 60.0, 98.0]\n",
            "Rata-rata: 82.0\n",
            "Nilai tertinggi: 98.0\n",
            "Nilai terendah: 60.0\n"
          ]
        }
      ]
    },
    {
      "cell_type": "code",
      "source": [
        "# Penjumlahan Matriks\n",
        "\n",
        "# Input matriks A\n",
        "print(\"Masukkan elemen matriks A:\")\n",
        "A = [[int(input(f\"A[{i}][{j}]: \")) for j in range(2)] for i in range(2)]\n",
        "\n",
        "# Input matriks B\n",
        "print(\"\\nMasukkan elemen matriks B:\")\n",
        "B = [[int(input(f\"B[{i}][{j}]: \")) for j in range(2)] for i in range(2)]\n",
        "\n",
        "# Penjumlahan matriks A + B\n",
        "C = [[A[i][j] + B[i][j] for j in range(2)] for i in range(2)]\n",
        "\n",
        "# Output hasil penjumlahan\n",
        "print(\"\\nHasil penjumlahan matriks A + B:\")\n",
        "for row in C:\n",
        "    print(*row)"
      ],
      "metadata": {
        "colab": {
          "base_uri": "https://localhost:8080/"
        },
        "id": "qlQ-dz9OnIdC",
        "outputId": "903ba697-73ae-4a86-d20b-b552403ac00c"
      },
      "execution_count": 4,
      "outputs": [
        {
          "output_type": "stream",
          "name": "stdout",
          "text": [
            "Masukkan elemen matriks A:\n",
            "A[0][0]: 1\n",
            "A[0][1]: 2\n",
            "A[1][0]: 3\n",
            "A[1][1]: 4\n",
            "\n",
            "Masukkan elemen matriks B:\n",
            "B[0][0]: 5\n",
            "B[0][1]: 6\n",
            "B[1][0]: 7\n",
            "B[1][1]: 8\n",
            "\n",
            "Hasil penjumlahan matriks A + B:\n",
            "6 8\n",
            "10 12\n"
          ]
        }
      ]
    },
    {
      "cell_type": "code",
      "source": [
        "# Kalkulasi Gaji\n",
        "\n",
        "# Fungsi untuk menghitung gaji bersih\n",
        "def hitung_gaji_bersih(gaji_pokok):\n",
        "    tunjangan = 0.10 * gaji_pokok\n",
        "    potongan = 0.05 * gaji_pokok\n",
        "    return gaji_pokok + tunjangan - potongan\n",
        "\n",
        "# Input gaji pokok\n",
        "gaji_pokok = float(input(\"Masukkan gaji pokok: \"))\n",
        "\n",
        "# Hitung dan tampilkan gaji bersih\n",
        "gaji_bersih = hitung_gaji_bersih(gaji_pokok)\n",
        "print(f\"Gaji bersih: {gaji_bersih:.2f}\")"
      ],
      "metadata": {
        "colab": {
          "base_uri": "https://localhost:8080/"
        },
        "id": "FPpFdJRNn_8h",
        "outputId": "d0e6d5b8-b9ab-47a7-d2cc-be0f6efcc93c"
      },
      "execution_count": 6,
      "outputs": [
        {
          "output_type": "stream",
          "name": "stdout",
          "text": [
            "Masukkan gaji pokok: 500\n",
            "Gaji bersih: 525.00\n"
          ]
        }
      ]
    }
  ]
}