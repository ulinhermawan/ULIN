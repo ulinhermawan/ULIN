{
  "nbformat": 4,
  "nbformat_minor": 0,
  "metadata": {
    "colab": {
      "provenance": [],
      "authorship_tag": "ABX9TyNU95uxjolHJKJ1sS4KaNQK",
      "include_colab_link": true
    },
    "kernelspec": {
      "name": "python3",
      "display_name": "Python 3"
    },
    "language_info": {
      "name": "python"
    }
  },
  "cells": [
    {
      "cell_type": "markdown",
      "metadata": {
        "id": "view-in-github",
        "colab_type": "text"
      },
      "source": [
        "<a href=\"https://colab.research.google.com/github/ulinhermawan/ULIN/blob/main/UlinHermawan.ipynb\" target=\"_parent\"><img src=\"https://colab.research.google.com/assets/colab-badge.svg\" alt=\"Open In Colab\"/></a>"
      ]
    },
    {
      "cell_type": "code",
      "execution_count": null,
      "metadata": {
        "colab": {
          "base_uri": "https://localhost:8080/"
        },
        "id": "gE4rPPpWO_3L",
        "outputId": "37bfef52-a46b-4a67-d67c-932613de333d"
      },
      "outputs": [
        {
          "output_type": "stream",
          "name": "stdout",
          "text": [
            "hallo, siapa namamu?masukan nama andaulin\n",
            "Di kota apa kamu sekarang?masukan kota andajatinangor\n",
            "senang bertemu dengan mu ulin, di kota jatinangor\n"
          ]
        }
      ],
      "source": [
        "print(\"hallo, siapa namamu?\", end=\"\")\n",
        "nama = input (\"masukan nama anda\")\n",
        "\n",
        "print(\"Di kota apa kamu sekarang?\", end=\"\")\n",
        "kota = input(\"masukan kota anda\")\n",
        "\n",
        "print(f\"senang bertemu dengan mu {nama}, di kota {kota}\")"
      ]
    },
    {
      "cell_type": "code",
      "source": [
        "kelahiran = int(input(\"jumlah kelahiran:\"))\n",
        "imigrasi_masuk = int(input(\"jumlah migrasi masuk:\"))\n",
        "kematian = int(input(\"jumlah kematian:\"))\n",
        "migrasi_keluar = int(input(\"jumlah migrasi keluar:\"))\n",
        "\n",
        "jumlah_penduduk = int(kelahiran) + int(imigrasi_masuk) - int(kematian) - int(migrasi_keluar)\n",
        "print(f\"jumlah penduduk saat ini adalah {jumlah_penduduk}\")\n",
        "\n"
      ],
      "metadata": {
        "colab": {
          "base_uri": "https://localhost:8080/"
        },
        "id": "0Vu0WIroRHSO",
        "outputId": "41f1a5d9-d106-4b40-d814-9ac6de13fff3"
      },
      "execution_count": null,
      "outputs": [
        {
          "output_type": "stream",
          "name": "stdout",
          "text": [
            "jumlah kelahiran:100\n",
            "jumlah migrasi masuk:19\n",
            "jumlah kematian:20\n",
            "jumlah migrasi keluar:12\n",
            "jumlah penduduk saat ini adalah 87\n"
          ]
        }
      ]
    },
    {
      "cell_type": "code",
      "source": [
        "jumlah_barang = int(input(\"Masukkan jumlah barang yang dibeli: \"))\n",
        "total_harga = 0\n",
        "for i in range(jumlah_barang):\n",
        "    harga = float(input(f\"Masukkan harga barang ke-{i+1}: \"))\n",
        "    total_harga += harga\n",
        "if total_harga > 100000:\n",
        "    diskon = total_harga * 0.10\n",
        "    total_harga -= diskon\n",
        "    print(f\"Anda mendapatkan diskon 10% sebesar Rp{diskon:.2f}\")\n",
        "print(f\"Total harga yang harus dibayar: Rp{total_harga:.2f}\")\n"
      ],
      "metadata": {
        "id": "wRjIRb3-Uf9G",
        "colab": {
          "base_uri": "https://localhost:8080/"
        },
        "outputId": "e0803272-c120-4af5-a5fc-184f4e2c76b2"
      },
      "execution_count": null,
      "outputs": [
        {
          "output_type": "stream",
          "name": "stdout",
          "text": [
            "Masukkan jumlah barang yang dibeli: 1\n",
            "Masukkan harga barang ke-1: 120000\n",
            "Anda mendapatkan diskon 10% sebesar Rp12000.00\n",
            "Total harga yang harus dibayar: Rp108000.00\n"
          ]
        }
      ]
    }
  ]
}