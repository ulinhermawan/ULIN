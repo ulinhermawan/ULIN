{
  "nbformat": 4,
  "nbformat_minor": 0,
  "metadata": {
    "colab": {
      "provenance": [],
      "authorship_tag": "ABX9TyOoyiqLlfaT41q7UtzbFFwz",
      "include_colab_link": true
    },
    "kernelspec": {
      "name": "python3",
      "display_name": "Python 3"
    },
    "language_info": {
      "name": "python"
    }
  },
  "cells": [
    {
      "cell_type": "markdown",
      "metadata": {
        "id": "view-in-github",
        "colab_type": "text"
      },
      "source": [
        "<a href=\"https://colab.research.google.com/github/ulinhermawan/ULIN/blob/main/Untitled12.ipynb\" target=\"_parent\"><img src=\"https://colab.research.google.com/assets/colab-badge.svg\" alt=\"Open In Colab\"/></a>"
      ]
    },
    {
      "cell_type": "code",
      "execution_count": 1,
      "metadata": {
        "colab": {
          "base_uri": "https://localhost:8080/"
        },
        "id": "XS1xmJ-LwbJD",
        "outputId": "f94a1e14-3102-4877-ce6a-e2f426551466"
      },
      "outputs": [
        {
          "output_type": "stream",
          "name": "stdout",
          "text": [
            "Masukkan N: 4\n",
            "1 1 1 1\n",
            "1 2 3 4\n",
            "1 3 6 10\n",
            "1 4 10 20\n"
          ]
        }
      ],
      "source": [
        "def buat_segitiga_pascal(N):\n",
        "    pascal = [[0 for _ in range(N)] for _ in range(N)]\n",
        "\n",
        "    for i in range(N):\n",
        "        pascal[i][0] = 1\n",
        "        pascal[0][i] = 1\n",
        "\n",
        "    for i in range(1, N):\n",
        "        for j in range(1, N):\n",
        "            pascal[i][j] = pascal[i-1][j] + pascal[i][j-1]\n",
        "\n",
        "    for row in pascal:\n",
        "        print(' '.join(map(str, row)))\n",
        "\n",
        "N = int(input(\"Masukkan N: \"))\n",
        "buat_segitiga_pascal(N)"
      ]
    },
    {
      "cell_type": "code",
      "source": [
        "# Program untuk menghitung jangkauan (range) dari array yang sudah terurut naik\n",
        "\n",
        "def hitung_jangkauan(array):\n",
        "    nilai_terkecil = array[0]\n",
        "    nilai_terbesar = array[-1]\n",
        "    jangkauan = nilai_terbesar - nilai_terkecil\n",
        "    return jangkauan\n",
        "\n",
        "A = [3, 5, 7, 10, 15, 20]\n",
        "print(\"Array A:\", A)\n",
        "print(\"Jangkauan:\", hitung_jangkauan(A))"
      ],
      "metadata": {
        "colab": {
          "base_uri": "https://localhost:8080/"
        },
        "id": "Dcow2i9Bw81d",
        "outputId": "f950d3d8-9aa9-424b-b990-42838b870431"
      },
      "execution_count": 6,
      "outputs": [
        {
          "output_type": "stream",
          "name": "stdout",
          "text": [
            "Array A: [3, 5, 7, 10, 15, 20]\n",
            "Jangkauan: 17\n"
          ]
        }
      ]
    }
  ]
}