{
  "nbformat": 4,
  "nbformat_minor": 0,
  "metadata": {
    "colab": {
      "provenance": [],
      "authorship_tag": "ABX9TyMJUtk8Fn5K7ws5E/tbQT8A",
      "include_colab_link": true
    },
    "kernelspec": {
      "name": "python3",
      "display_name": "Python 3"
    },
    "language_info": {
      "name": "python"
    }
  },
  "cells": [
    {
      "cell_type": "markdown",
      "metadata": {
        "id": "view-in-github",
        "colab_type": "text"
      },
      "source": [
        "<a href=\"https://colab.research.google.com/github/ulinhermawan/ULIN/blob/main/Untitled2.ipynb\" target=\"_parent\"><img src=\"https://colab.research.google.com/assets/colab-badge.svg\" alt=\"Open In Colab\"/></a>"
      ]
    },
    {
      "cell_type": "code",
      "source": [
        "# 1\n",
        "nama = input(\"masukan nama:\")\n",
        "print(\"Halo[ulin hermawan]! Selamat belajar python!\")"
      ],
      "metadata": {
        "id": "NGb8jJAyvksj",
        "colab": {
          "base_uri": "https://localhost:8080/"
        },
        "outputId": "d172428d-a3a9-4f9b-b92e-1bd639a8f161"
      },
      "execution_count": null,
      "outputs": [
        {
          "output_type": "stream",
          "name": "stdout",
          "text": [
            "masukan nama:ulin hermawan\n",
            "Halo[ulin hermawan]! Selamat belajar python!\n"
          ]
        }
      ]
    },
    {
      "cell_type": "code",
      "source": [
        "# 2\n",
        "\n",
        "panjang = input(\"masukan nilai panjang:\")\n",
        "lebar = input(\"masukan nilai lebar:\")\n",
        "luas = int(panjang) * int(lebar)\n",
        "print(\"luas persegi panjang adalah\", luas)"
      ],
      "metadata": {
        "colab": {
          "base_uri": "https://localhost:8080/"
        },
        "id": "KUE7C0qVoeLu",
        "outputId": "cd7c98b9-1e47-4dc5-bfd4-1a18af3ea75f"
      },
      "execution_count": null,
      "outputs": [
        {
          "output_type": "stream",
          "name": "stdout",
          "text": [
            "masukan nilai panjang:5\n",
            "masukan nilai lebar:3\n",
            "luas persegi panjang adalah 15\n"
          ]
        }
      ]
    },
    {
      "cell_type": "code",
      "source": [
        "# 3\n",
        "\n",
        "# masukan bilangan ganjil\n",
        "Bilangan = input(\"masukan nilai angka:\")\n",
        "if int(Bilangan) % 2 == 0:\n",
        "  print(\"Bilangan genap\")\n",
        "else:\n",
        "  print(\"Bilangan ganjil\")"
      ],
      "metadata": {
        "colab": {
          "base_uri": "https://localhost:8080/"
        },
        "id": "imbhD3WYrGet",
        "outputId": "90cecb32-082d-41b4-8b77-325d989ea4b4"
      },
      "execution_count": null,
      "outputs": [
        {
          "output_type": "stream",
          "name": "stdout",
          "text": [
            "masukan nilai angka:3\n",
            "Bilangan ganjil\n"
          ]
        }
      ]
    },
    {
      "cell_type": "code",
      "source": [
        "# 4\n",
        "\n",
        "for i in range(1,21):\n",
        "  print(i, end=\" \")"
      ],
      "metadata": {
        "colab": {
          "base_uri": "https://localhost:8080/"
        },
        "id": "h3LZ-aTLt3C1",
        "outputId": "fc8a39d1-e2d3-4b80-bca8-6cdc6766e6ac"
      },
      "execution_count": null,
      "outputs": [
        {
          "output_type": "stream",
          "name": "stdout",
          "text": [
            "1 2 3 4 5 6 7 8 9 10 11 12 13 14 15 16 17 18 19 20 "
          ]
        }
      ]
    },
    {
      "cell_type": "code",
      "source": [
        "# 5\n",
        "\n",
        "a = int(input(\"masukan nilai pertama:\"))\n",
        "b = int(input(\"masukan nilai kedua:\"))\n",
        "\n",
        "jumlah = 0\n",
        "\n",
        "for i in range(a, b + 1):\n",
        "  jumlah += i # menentukan dari setiap bilangan ke jumlah\n",
        "\n",
        "# mencetak jumlah\n",
        "print(\"jumlah semua bilangan antara\", a, \"dan\", \"adalah:\", jumlah)"
      ],
      "metadata": {
        "colab": {
          "base_uri": "https://localhost:8080/"
        },
        "id": "m50LwmNFvUMk",
        "outputId": "655d1325-6f20-4f33-9883-c7e7a3382f3c"
      },
      "execution_count": null,
      "outputs": [
        {
          "output_type": "stream",
          "name": "stdout",
          "text": [
            "masukan nilai pertama:3\n",
            "masukan nilai kedua:7\n",
            "jumlah semua bilangan antara 3 dan adalah: 25\n"
          ]
        }
      ]
    },
    {
      "cell_type": "code",
      "source": [
        "# 6\n",
        "\n",
        "a = int(input(\"masukan nilai pertama:\"))\n",
        "b = int(input(\"masukan nilai kedua:\"))\n",
        "print(f\"bilangan genap dari rentang {a} sampai {b}:\")\n",
        "for i in range(a, b + 1):\n",
        "  if i % 2 == 0:\n",
        "    print(i)"
      ],
      "metadata": {
        "colab": {
          "base_uri": "https://localhost:8080/"
        },
        "id": "qsVtkaQ00gZz",
        "outputId": "17c06676-7002-414d-f96f-a09b09e653f4"
      },
      "execution_count": null,
      "outputs": [
        {
          "output_type": "stream",
          "name": "stdout",
          "text": [
            "masukan nilai pertama:3\n",
            "masukan nilai kedua:10\n",
            "bilangan genap dari rentang 3 sampai 10:\n",
            "4\n",
            "6\n",
            "8\n",
            "10\n"
          ]
        }
      ]
    },
    {
      "cell_type": "code",
      "source": [
        "# 7\n",
        "\n",
        "a = [5, 2, 8, 1]\n",
        "print(a[::-1])"
      ],
      "metadata": {
        "colab": {
          "base_uri": "https://localhost:8080/"
        },
        "id": "_q75vk0g5suK",
        "outputId": "e2a83642-dc26-423a-c02f-fafe4629393a"
      },
      "execution_count": null,
      "outputs": [
        {
          "output_type": "stream",
          "name": "stdout",
          "text": [
            "[1, 8, 2, 5]\n"
          ]
        }
      ]
    }
  ]
}