{
  "nbformat": 4,
  "nbformat_minor": 0,
  "metadata": {
    "colab": {
      "provenance": [],
      "authorship_tag": "ABX9TyNxjUg2nHwmr3cUg2hrDMPz",
      "include_colab_link": true
    },
    "kernelspec": {
      "name": "python3",
      "display_name": "Python 3"
    },
    "language_info": {
      "name": "python"
    }
  },
  "cells": [
    {
      "cell_type": "markdown",
      "metadata": {
        "id": "view-in-github",
        "colab_type": "text"
      },
      "source": [
        "<a href=\"https://colab.research.google.com/github/ulinhermawan/ULIN/blob/main/Untitled7.ipynb\" target=\"_parent\"><img src=\"https://colab.research.google.com/assets/colab-badge.svg\" alt=\"Open In Colab\"/></a>"
      ]
    },
    {
      "cell_type": "code",
      "execution_count": 1,
      "metadata": {
        "colab": {
          "base_uri": "https://localhost:8080/"
        },
        "id": "B7BzwWw7uuug",
        "outputId": "56b0afb0-3a76-4ec5-eb20-9862bb468b44"
      },
      "outputs": [
        {
          "output_type": "stream",
          "name": "stdout",
          "text": [
            "Masukkan nilai D: 3\n",
            "Elemen S yang baru: [6, 9, -12, 15, 21, 27]\n"
          ]
        }
      ],
      "source": [
        "# Latihan 1\n",
        "\n",
        "S = [2, 3, -4, 5, 7, 9]\n",
        "D = int(input(\"Masukkan nilai D: \"))\n",
        "\n",
        "for i in range(len(S)):\n",
        "  S[i] *= D\n",
        "\n",
        "print(\"Elemen S yang baru:\", S)"
      ]
    },
    {
      "cell_type": "code",
      "source": [
        "# Latihan 2\n",
        "\n",
        "N = 5\n",
        "T = [-2, 3, 9, -5, 8]\n",
        "\n",
        "terbesar = T[0]\n",
        "\n",
        "for i in range(1, N):\n",
        "  if T[i] > terbesar:\n",
        "    terbesar = T[i]\n",
        "\n",
        "print(\"Elemen terbesar:\", terbesar)"
      ],
      "metadata": {
        "colab": {
          "base_uri": "https://localhost:8080/"
        },
        "id": "UtbvlUcQu63S",
        "outputId": "313d1619-aa5b-4b15-d947-bd9475d970ce"
      },
      "execution_count": 2,
      "outputs": [
        {
          "output_type": "stream",
          "name": "stdout",
          "text": [
            "Elemen terbesar: 9\n"
          ]
        }
      ]
    }
  ]
}