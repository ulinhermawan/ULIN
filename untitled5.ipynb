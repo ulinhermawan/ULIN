{
  "nbformat": 4,
  "nbformat_minor": 0,
  "metadata": {
    "colab": {
      "provenance": [],
      "authorship_tag": "ABX9TyNNMB9EsQD8EGj0S8HivrRa",
      "include_colab_link": true
    },
    "kernelspec": {
      "name": "python3",
      "display_name": "Python 3"
    },
    "language_info": {
      "name": "python"
    }
  },
  "cells": [
    {
      "cell_type": "markdown",
      "metadata": {
        "id": "view-in-github",
        "colab_type": "text"
      },
      "source": [
        "<a href=\"https://colab.research.google.com/github/ulinhermawan/ULIN/blob/main/untitled5.ipynb\" target=\"_parent\"><img src=\"https://colab.research.google.com/assets/colab-badge.svg\" alt=\"Open In Colab\"/></a>"
      ]
    },
    {
      "cell_type": "code",
      "execution_count": null,
      "metadata": {
        "colab": {
          "base_uri": "https://localhost:8080/"
        },
        "id": "kftyTVO_35Bb",
        "outputId": "e1d09687-8ba6-4619-f463-4a16b7e249bb"
      },
      "outputs": [
        {
          "output_type": "stream",
          "name": "stdout",
          "text": [
            "A memiliki nilai 90 dinyatakan Lulus\n",
            "B memiliki nilai 65 dinyatakan Tidak Lulus\n",
            "C memiliki nilai 78 dinyatakan Lulus\n",
            "D memiliki nilai 85 dinyatakan Lulus\n",
            "E memiliki nilai 72 dinyatakan Tidak Lulus\n"
          ]
        }
      ],
      "source": [
        "nama = ['A', 'B', 'C', 'D', 'E']\n",
        "nilai = [90, 65, 78, 85, 72]\n",
        "\n",
        "for i in range(len(nama)):\n",
        "    if nilai[i] >= 75:\n",
        "        print(f\"{nama[i]} memiliki nilai {nilai[i]} dinyatakan Lulus\")\n",
        "    else:\n",
        "        print(f\"{nama[i]} memiliki nilai {nilai[i]} dinyatakan Tidak Lulus\")"
      ]
    },
    {
      "cell_type": "code",
      "source": [
        "n = int(input(\"Masukan nilai n: \"))\n",
        "\n",
        "for i in range(1, n+1):\n",
        "    if i % 2== 0:\n",
        "        print(i, \"adalah bilangan genap\")\n",
        "    else:\n",
        "        print(i, \"adalah bilangan ganjil\")"
      ],
      "metadata": {
        "colab": {
          "base_uri": "https://localhost:8080/"
        },
        "id": "XQvDUNGL4Gcp",
        "outputId": "307473c1-9e5e-4dcd-de36-1d5713975cf2"
      },
      "execution_count": null,
      "outputs": [
        {
          "output_type": "stream",
          "name": "stdout",
          "text": [
            "Masukan nilai n: 20\n",
            "1 adalah bilangan ganjil\n",
            "2 adalah bilangan genap\n",
            "3 adalah bilangan ganjil\n",
            "4 adalah bilangan genap\n",
            "5 adalah bilangan ganjil\n",
            "6 adalah bilangan genap\n",
            "7 adalah bilangan ganjil\n",
            "8 adalah bilangan genap\n",
            "9 adalah bilangan ganjil\n",
            "10 adalah bilangan genap\n",
            "11 adalah bilangan ganjil\n",
            "12 adalah bilangan genap\n",
            "13 adalah bilangan ganjil\n",
            "14 adalah bilangan genap\n",
            "15 adalah bilangan ganjil\n",
            "16 adalah bilangan genap\n",
            "17 adalah bilangan ganjil\n",
            "18 adalah bilangan genap\n",
            "19 adalah bilangan ganjil\n",
            "20 adalah bilangan genap\n"
          ]
        }
      ]
    },
    {
      "cell_type": "code",
      "source": [
        "n = int(input(\"Masukan nilai n: \"))\n",
        "\n",
        "print(\"Bilangan prima dari 1 sampai\", n)\n",
        "for i in range(2, n + 1):\n",
        "    bilangan_prima = True\n",
        "    for j in range(2, int(i ** 0.5) + 1):\n",
        "        if i % j == 0:\n",
        "            bilangan_prima = False\n",
        "            break\n",
        "    if bilangan_prima:\n",
        "        print(i, end=\" \")"
      ],
      "metadata": {
        "colab": {
          "base_uri": "https://localhost:8080/"
        },
        "id": "oY86WMAz4PwM",
        "outputId": "cf64a091-6df5-4bb6-d958-b50b24f0f231"
      },
      "execution_count": null,
      "outputs": [
        {
          "output_type": "stream",
          "name": "stdout",
          "text": [
            "Masukan nilai n: 30\n",
            "Bilangan prima dari 1 sampai 30\n",
            "2 3 5 7 11 13 17 19 23 29 "
          ]
        }
      ]
    },
    {
      "cell_type": "code",
      "source": [
        "n = int(input(\"Masukan nilai n: \"))\n",
        "\n",
        "print(\"Bilangan prima dari 1 sampai\", n)\n",
        "for i in range(2, n + 1):\n",
        "    bilangan_prima = True\n",
        "    for j in range(2, int(i ** 0.5) + 1):\n",
        "        if i % j == 0:\n",
        "            bilangan_prima = False\n",
        "            break\n",
        "    if not bilangan_prima:\n",
        "        print(i, end=\" \")"
      ],
      "metadata": {
        "colab": {
          "base_uri": "https://localhost:8080/"
        },
        "id": "sFvJAtGf4afg",
        "outputId": "ed9ec5de-b5f2-46d1-953c-bbb6b058fe2f"
      },
      "execution_count": null,
      "outputs": [
        {
          "output_type": "stream",
          "name": "stdout",
          "text": [
            "Masukan nilai n: 30\n",
            "Bilangan prima dari 1 sampai 30\n",
            "4 6 8 9 10 12 14 15 16 18 20 21 22 24 25 26 27 28 30 "
          ]
        }
      ]
    },
    {
      "cell_type": "code",
      "source": [
        "t = [2, 5, 8, 3, 6, 9]\n",
        "p = [1, 4, 7, 2, 5, 8]\n",
        "\n",
        "# Perkalian elemen per elemen\n",
        "result = [t[i] * p[i] for i in range(len(t))]\n",
        "\n",
        "# Cetak hasil\n",
        "print(result)"
      ],
      "metadata": {
        "colab": {
          "base_uri": "https://localhost:8080/"
        },
        "id": "OaNjU8a94qLQ",
        "outputId": "d8b1327d-5ffd-4fca-cc4b-108e3d493c21"
      },
      "execution_count": null,
      "outputs": [
        {
          "output_type": "stream",
          "name": "stdout",
          "text": [
            "[2, 20, 56, 6, 30, 72]\n"
          ]
        }
      ]
    },
    {
      "cell_type": "code",
      "source": [
        "# Data barang dan harga\n",
        "barang = ['Telur', 'Beras', 'Tepung', 'Daging', 'Tempe']\n",
        "harga = [2000, 15000, 8000, 23000, 6000]\n",
        "\n",
        "# Uang yang dimiliki\n",
        "uang = 15000\n",
        "\n",
        "# Keranjang belanja (Telur dan Tepung)\n",
        "keranjang = barang[0:3:2]  # Hanya Telur dan Tepung\n",
        "total = harga[0] + harga[2]  # Harga Telur dan Tepung\n",
        "\n",
        "# Cek apakah uang cukup atau tidak\n",
        "if total <= uang:\n",
        "    print(f\"Uang cukup karena total pembelian sebesar {total}\")\n",
        "else:\n",
        "    print(f\"Uang tidak cukup karena total pembelian sebesar {total}\")"
      ],
      "metadata": {
        "colab": {
          "base_uri": "https://localhost:8080/"
        },
        "id": "hMgVRwNW4wAd",
        "outputId": "17089e3b-e1c0-4981-ccb8-100b314d3d41"
      },
      "execution_count": null,
      "outputs": [
        {
          "output_type": "stream",
          "name": "stdout",
          "text": [
            "Uang cukup karena total pembelian sebesar 10000\n"
          ]
        }
      ]
    }
  ]
}