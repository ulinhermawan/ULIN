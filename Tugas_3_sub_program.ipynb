{
  "nbformat": 4,
  "nbformat_minor": 0,
  "metadata": {
    "colab": {
      "provenance": [],
      "authorship_tag": "ABX9TyMINdPlS5d1mloJ8wUI1Ehi",
      "include_colab_link": true
    },
    "kernelspec": {
      "name": "python3",
      "display_name": "Python 3"
    },
    "language_info": {
      "name": "python"
    }
  },
  "cells": [
    {
      "cell_type": "markdown",
      "metadata": {
        "id": "view-in-github",
        "colab_type": "text"
      },
      "source": [
        "<a href=\"https://colab.research.google.com/github/ulinhermawan/ULIN/blob/main/Tugas_3_sub_program.ipynb\" target=\"_parent\"><img src=\"https://colab.research.google.com/assets/colab-badge.svg\" alt=\"Open In Colab\"/></a>"
      ]
    },
    {
      "cell_type": "code",
      "execution_count": 1,
      "metadata": {
        "colab": {
          "base_uri": "https://localhost:8080/"
        },
        "id": "897HnUAZregz",
        "outputId": "3013de35-954b-43e9-a374-48e8a1683026"
      },
      "outputs": [
        {
          "output_type": "stream",
          "name": "stdout",
          "text": [
            "Masukkan nilai A: 3\n",
            "Masukkan nilai B: 6\n",
            "Nilai f(x) untuk x dari A hingga B:\n",
            "f(3) = 8\n",
            "f(4) = 13\n",
            "f(5) = 20\n",
            "f(6) = 29\n"
          ]
        }
      ],
      "source": [
        "def fungsi_kuadrat(x):\n",
        "  \"\"\"\n",
        "  Fungsi ini menghitung nilai f(x) = x^2 - 2x + 5.\n",
        "\n",
        "  Args:\n",
        "    x: Nilai input.\n",
        "\n",
        "  Returns:\n",
        "    Nilai f(x).\n",
        "  \"\"\"\n",
        "  return x**2 - 2*x + 5\n",
        "\n",
        "def main():\n",
        "  \"\"\"\n",
        "  Fungsi utama untuk menerima input A dan B,\n",
        "  lalu menuliskan nilai f(x) untuk x dari A hingga B.\n",
        "  \"\"\"\n",
        "  A = int(input(\"Masukkan nilai A: \"))\n",
        "  B = int(input(\"Masukkan nilai B: \"))\n",
        "\n",
        "  print(\"Nilai f(x) untuk x dari A hingga B:\")\n",
        "  for x in range(A, B + 1):\n",
        "    print(f\"f({x}) = {fungsi_kuadrat(x)}\")\n",
        "\n",
        "if __name__ == \"__main__\":\n",
        "  main()"
      ]
    },
    {
      "cell_type": "code",
      "source": [
        "\n",
        "import re\n",
        "\n",
        "def validasi_sandi(sandi):\n",
        "  \"\"\"\n",
        "  Fungsi untuk memvalidasi kata sandi.\n",
        "\n",
        "  Args:\n",
        "    sandi: Kata sandi yang akan divalidasi.\n",
        "\n",
        "  Returns:\n",
        "    True jika sandi valid, atau string alasan jika tidak valid.\n",
        "  \"\"\"\n",
        "  if len(sandi) < 8:\n",
        "    return \"Sandi minimal harus 8 karakter.\"\n",
        "  if not re.search(\"[A-Z]\", sandi):\n",
        "    return \"Sandi harus mengandung minimal satu huruf besar.\"\n",
        "  if not re.search(\"[0-9]\", sandi):\n",
        "    return \"Sandi harus mengandung minimal satu angka.\"\n",
        "  return True\n",
        "\n",
        "# Contoh penggunaan\n",
        "sandi = input(\"Masukkan sandi: \")\n",
        "hasil = validasi_sandi(sandi)\n",
        "\n",
        "if hasil == True:\n",
        "  print(\"Sandi valid.\")\n",
        "else:\n",
        "  print(f\"Sandi tidak valid: {hasil}\")"
      ],
      "metadata": {
        "colab": {
          "base_uri": "https://localhost:8080/"
        },
        "id": "YTlliVERsC0T",
        "outputId": "f32cd526-c1b7-41cf-8639-249d9e661ec3"
      },
      "execution_count": 12,
      "outputs": [
        {
          "output_type": "stream",
          "name": "stdout",
          "text": [
            "Masukkan sandi: Jatinangor1\n",
            "Sandi valid.\n"
          ]
        }
      ]
    },
    {
      "cell_type": "code",
      "source": [
        "def determinant_2x2(matrix):\n",
        "  a = matrix[0][0]\n",
        "  b = matrix[0][1]\n",
        "  c = matrix[1][0]\n",
        "  d = matrix[1][1]\n",
        "  determinant = (a * d) - (b * c)\n",
        "  return determinant\n",
        "\n",
        "# Contoh penggunaan\n",
        "A = [[2, 3], [1, 4]]\n",
        "det_A = determinant_2x2(A)\n",
        "print(f\"Determinan matriks A: {det_A}\")"
      ],
      "metadata": {
        "colab": {
          "base_uri": "https://localhost:8080/"
        },
        "id": "A40CDXpotAfr",
        "outputId": "ff61dbb5-a6d1-4da6-c038-fc4adc58683d"
      },
      "execution_count": 11,
      "outputs": [
        {
          "output_type": "stream",
          "name": "stdout",
          "text": [
            "Determinan matriks A: 5\n"
          ]
        }
      ]
    }
  ]
}