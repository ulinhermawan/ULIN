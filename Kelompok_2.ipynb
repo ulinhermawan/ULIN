{
  "nbformat": 4,
  "nbformat_minor": 0,
  "metadata": {
    "colab": {
      "provenance": [],
      "include_colab_link": true
    },
    "kernelspec": {
      "name": "python3",
      "display_name": "Python 3"
    },
    "language_info": {
      "name": "python"
    }
  },
  "cells": [
    {
      "cell_type": "markdown",
      "metadata": {
        "id": "view-in-github",
        "colab_type": "text"
      },
      "source": [
        "<a href=\"https://colab.research.google.com/github/ulinhermawan/ULIN/blob/main/Kelompok_2.ipynb\" target=\"_parent\"><img src=\"https://colab.research.google.com/assets/colab-badge.svg\" alt=\"Open In Colab\"/></a>"
      ]
    },
    {
      "cell_type": "code",
      "execution_count": null,
      "metadata": {
        "id": "Nq2S3hx5vCT_"
      },
      "outputs": [],
      "source": []
    },
    {
      "cell_type": "code",
      "source": [
        "A = [4, 6, 3, 1]\n",
        "B = [4, 6, 3, 1]\n",
        "C = [4, 3, 6, 1]\n",
        "\n",
        "# Cek A dan B\n",
        "sama = True\n",
        "if len(A) != len(B):\n",
        "    sama = False\n",
        "else:\n",
        "    for i in range(len(A)):\n",
        "        if A[i] != B[i]:\n",
        "            sama = False\n",
        "            break\n",
        "\n",
        "if sama:\n",
        "    print(\"Array A dan B sama\")\n",
        "else:\n",
        "    print(\"Array A dan B tidak sama\")\n",
        "\n",
        "# Cek A dan C\n",
        "sama = True\n",
        "if len(A) != len(C):\n",
        "    sama = False\n",
        "else:\n",
        "    for i in range(len(A)):\n",
        "        if A[i] != C[i]:\n",
        "            sama = False\n",
        "            break\n",
        "\n",
        "if sama:\n",
        "    print(\"Array A dan C sama\")\n",
        "else:\n",
        "    print(\"Array A dan C tidak sama\")"
      ],
      "metadata": {
        "colab": {
          "base_uri": "https://localhost:8080/"
        },
        "id": "mPxxyl8UvL_a",
        "outputId": "89d19253-64d8-4276-fa10-3d04ba89ff19"
      },
      "execution_count": null,
      "outputs": [
        {
          "output_type": "stream",
          "name": "stdout",
          "text": [
            "Array A dan B sama\n",
            "Array A dan C tidak sama\n"
          ]
        }
      ]
    }
  ]
}