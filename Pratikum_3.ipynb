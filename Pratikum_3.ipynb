{
  "nbformat": 4,
  "nbformat_minor": 0,
  "metadata": {
    "colab": {
      "provenance": [],
      "authorship_tag": "ABX9TyN/JVTBRja5HpCEDd1P83A3",
      "include_colab_link": true
    },
    "kernelspec": {
      "name": "python3",
      "display_name": "Python 3"
    },
    "language_info": {
      "name": "python"
    }
  },
  "cells": [
    {
      "cell_type": "markdown",
      "metadata": {
        "id": "view-in-github",
        "colab_type": "text"
      },
      "source": [
        "<a href=\"https://colab.research.google.com/github/ulinhermawan/ULIN/blob/main/Pratikum_3.ipynb\" target=\"_parent\"><img src=\"https://colab.research.google.com/assets/colab-badge.svg\" alt=\"Open In Colab\"/></a>"
      ]
    },
    {
      "cell_type": "code",
      "execution_count": null,
      "metadata": {
        "colab": {
          "base_uri": "https://localhost:8080/"
        },
        "id": "OZ_0N6rjZu-i",
        "outputId": "3640d313-c644-4352-faf7-ee2375b7b086"
      },
      "outputs": [
        {
          "output_type": "stream",
          "name": "stdout",
          "text": [
            "12\n",
            "144\n"
          ]
        }
      ],
      "source": [
        "def kuadrat(x):\n",
        "  x2 = x*x\n",
        "  return x2\n",
        "n = int(input())\n",
        "n2 = kuadrat(n)\n",
        "print(n2)"
      ]
    },
    {
      "cell_type": "code",
      "source": [
        "def pangkat (a, b): #b >= 0\n",
        "    c = 1\n",
        "    for i in range(b):\n",
        "        c *= a\n",
        "    return c\n",
        "\n",
        "print(pangkat(2, 3))"
      ],
      "metadata": {
        "colab": {
          "base_uri": "https://localhost:8080/"
        },
        "id": "hDiPpTRLarNB",
        "outputId": "e8860627-ffd4-41e0-88f9-b21535b95ffd"
      },
      "execution_count": null,
      "outputs": [
        {
          "output_type": "stream",
          "name": "stdout",
          "text": [
            "8\n"
          ]
        }
      ]
    },
    {
      "cell_type": "code",
      "source": [
        "print(\" Menu:\")\n",
        "print(\" 1. Burger\")\n",
        "print(\" 2. Ayam Geprek\")\n",
        "print(\" 3. Mie Instan\")\n",
        "print(\" Masukkan pilihan: \")\n",
        "pilihan_makanan = int( input())\n",
        "print(\" Menu:\")\n",
        "print(\" 1. Jus Alpukat\")\n",
        "print(\" 2. Thai Tea\")\n",
        "print(\" 3. Teh Tarik\")\n",
        "print(\" Masukkan pilihan: \")\n",
        "pilihan_minuman = int( input())\n",
        "print(\" Menu:\")\n",
        "print(\" 1. Kentang\")\n",
        "print(\" 2. Krupuk\")\n",
        "print(\" 3. Abon\")\n",
        "print(\" Masukkan pilihan: \")\n",
        "pilihan_tambahan = int( input())"
      ],
      "metadata": {
        "colab": {
          "base_uri": "https://localhost:8080/"
        },
        "id": "Z66sGGPVcYdB",
        "outputId": "4304c73e-86ee-4e71-a14a-f7452847844d"
      },
      "execution_count": null,
      "outputs": [
        {
          "name": "stdout",
          "output_type": "stream",
          "text": [
            " Menu:\n",
            " 1. Burger\n",
            " 2. Ayam Geprek\n",
            " 3. Mie Instan\n",
            " Masukkan pilihan: \n",
            "1\n",
            " Menu:\n",
            " 1. Jus Alpukat\n",
            " 2. Thai Tea\n",
            " 3. Teh Tarik\n",
            " Masukkan pilihan: \n",
            "2\n",
            " Menu:\n",
            " 1. Kentang\n",
            " 2. Krupuk\n",
            " 3. Abon\n",
            " Masukkan pilihan: \n",
            "3\n"
          ]
        }
      ]
    },
    {
      "cell_type": "code",
      "source": [
        "def tulis_menu(pil1, pil2, pil3):\n",
        "  print(\" Menu:\")\n",
        "  print(\" 1. \" + str(pil1))\n",
        "  print(\" 2. \" + str(pil2))\n",
        "  print(\" 3. \" + str(pil3))\n",
        "  print(\" Masukkan pilihan: \") # Prompt for input within the function\n",
        "\n",
        "# Get and return user input from within the function\n",
        "  pilihan = int(input())\n",
        "  return pilihan\n",
        "# Call tulis_menu and assign the returned value\n",
        "pilihan_makanan = tulis_menu(\"Burger\", \"Ayam Geprek\", \"Mie Instan\")\n",
        "print(\"Kamu memilih makanan nomor\", pilihan_makanan)\n",
        "pilihan_minuman = tulis_menu(\"Jus Alpukat\", \"Thai Tea\", \"Teh Tarik\")\n",
        "print(\"Kamu memilih minuman nomor\", pilihan_minuman)\n",
        "pilihan_tambahan = tulis_menu(\"Kentang\", \"Krupuk\", \"Abon\")\n",
        "print(\"Kamu memilih tambahan nomor\", pilihan_tambahan)"
      ],
      "metadata": {
        "colab": {
          "base_uri": "https://localhost:8080/"
        },
        "id": "0OToulRvegDF",
        "outputId": "14e3f5ee-72ab-4d71-e8a9-bf2ae0ad43a7"
      },
      "execution_count": 31,
      "outputs": [
        {
          "output_type": "stream",
          "name": "stdout",
          "text": [
            " Menu:\n",
            " 1. Burger\n",
            " 2. Ayam Geprek\n",
            " 3. Mie Instan\n",
            " Masukkan pilihan: \n",
            "1\n",
            "Kamu memilih makanan nomor 1\n",
            " Menu:\n",
            " 1. Jus Alpukat\n",
            " 2. Thai Tea\n",
            " 3. Teh Tarik\n",
            " Masukkan pilihan: \n",
            "2\n",
            "Kamu memilih minuman nomor 2\n",
            " Menu:\n",
            " 1. Kentang\n",
            " 2. Krupuk\n",
            " 3. Abon\n",
            " Masukkan pilihan: \n",
            "3\n",
            "Kamu memilih tambahan nomor 3\n"
          ]
        }
      ]
    }
  ]
}